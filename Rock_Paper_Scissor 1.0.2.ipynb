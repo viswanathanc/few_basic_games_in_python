{
 "cells": [
  {
   "cell_type": "markdown",
   "metadata": {},
   "source": [
    "# Updates\n",
    "\n",
    " This version has several updates over the previous! It enables Multiplayers. It can return an error if the expected inputs are not received!"
   ]
  },
  {
   "cell_type": "code",
   "execution_count": 1,
   "metadata": {},
   "outputs": [],
   "source": [
    "#Setting up essential components\n",
    "import random\n",
    "possible_entities = ['Rock','Paper','Scissors']\n",
    "\n",
    "class entity_in:\n",
    "    def __init__(self,entity):\n",
    "        self.entity = entity\n",
    "        \n",
    "    def __eq__(self,other):\n",
    "        if self.entity == other.entity:\n",
    "            return True\n",
    "        else:\n",
    "            return False\n",
    "        \n",
    "    def __str__(self):\n",
    "        return self.entity\n",
    "        \n",
    "r = entity_in(\"Rock\")\n",
    "p = entity_in(\"Paper\")\n",
    "s = entity_in(\"Scissors\")\n",
    "\n",
    "def take_user_input():\n",
    "    user_input = input(\"Its your turn! Type one of the following:\\nRock\\nPaper\\nScissors\\n\\t\")\n",
    "    assert user_input in possible_entities, \"Entry invalid. Please enter one of 'Rock', 'Paper' or 'Scissors'\" \n",
    "    user_entity = entity_in(user_input)\n",
    "    return user_entity\n",
    "    \n",
    "def take_comp_input():\n",
    "    comp_input = random.choice(possible_entities)\n",
    "    comp_entity = entity_in(comp_input)\n",
    "    print(\"\\nComputer returns {}\\n\\n\\t\".format(comp_input))\n",
    "    return comp_entity"
   ]
  },
  {
   "cell_type": "code",
   "execution_count": 2,
   "metadata": {},
   "outputs": [],
   "source": [
    "#setting Game rules\n",
    "def compare_n_reward(p1,p2,entity_1,entity_2):\n",
    "    if entity_1 == entity_2:\n",
    "        print(\"Both returned same!\")\n",
    "    elif entity_1 == r and entity_2 == s:\n",
    "        print(\"{}'s Rock crashes {}'s Scissors!\".format(p1,p2))\n",
    "    elif entity_2 == r and entity_1 == s:\n",
    "        print(\"{}'s Rock crashes {}'s Scissors!\".format(p2,p1))\n",
    "    elif entity_1 == p and entity_2 == r:\n",
    "        print(\"{}'s Paper covers {}'s Rock!\".format(p1,p2))\n",
    "    elif entity_2 == p and entity_1 == r:\n",
    "        print(\"{}'s Paper covers {}'s Rock!\".format(p2,p1))\n",
    "    elif entity_1 == s and entity_2 == p:\n",
    "        print(\"{}'s Scissors cuts {}'s Paper\".format(p1,p2))\n",
    "    elif entity_2 == s and entity_1 == p:\n",
    "        print(\"{}'s Scissors cuts {}'s Paper\".format(p2,p1))"
   ]
  },
  {
   "cell_type": "code",
   "execution_count": 3,
   "metadata": {},
   "outputs": [],
   "source": [
    "def play_a_trial_with_comp(p1,p2):\n",
    "    u = take_user_input()\n",
    "    c = take_comp_input()\n",
    "    compare_n_reward(p1,p2,u,c)\n",
    "    \n",
    "def play_a_trial_with_another_player(p1,p2):\n",
    "    print(\"Hi Player 1,\")\n",
    "    u1 = take_user_input()\n",
    "    print(\"Hi Player 2,\")\n",
    "    u2 = take_user_input()\n",
    "    compare_n_reward(p1,p2,u1,u2)\n",
    "\n",
    "def play():\n",
    "    single = input(\"\\n\\tSingle player or multiple? Type 'True' or 'False'\\n\\t\")\n",
    "    if bool(single):\n",
    "        p1 = input(\"\\n\\tType your Username:\")\n",
    "        p2 = \"Computer\"    \n",
    "        play_a_trial_with_comp(p1,p2)\n",
    "    else:\n",
    "        p1 = input(\"\\n\\tType Player 1's Username:\\n\\t\")\n",
    "        p2 = input(\"\\n\\tType Player 2's Username:\\n\\t\" )\n",
    "        play_a_trial_with_another_player(p1,p2)"
   ]
  },
  {
   "cell_type": "code",
   "execution_count": 4,
   "metadata": {},
   "outputs": [
    {
     "name": "stdout",
     "output_type": "stream",
     "text": [
      "\n",
      "\tSingle player or multiple? Type 'True' or 'False'\n",
      "\tTrue\n",
      "\n",
      "\tType your Username:Viswa\n",
      "Its your turn! Type one of the following:\n",
      "Rock\n",
      "Paper\n",
      "Scissors\n",
      "\tRock\n",
      "\n",
      "Computer returns Paper\n",
      "\n",
      "\t\n",
      "Computer's Paper covers Viswa's Rock!\n"
     ]
    }
   ],
   "source": [
    "play()"
   ]
  },
  {
   "cell_type": "code",
   "execution_count": 5,
   "metadata": {},
   "outputs": [
    {
     "name": "stdout",
     "output_type": "stream",
     "text": [
      "\n",
      "\tSingle player or multiple? Type 'True' or 'False'\n",
      "\t\n",
      "\n",
      "\tType Player 1's Username:\n",
      "\tViswa\n",
      "\n",
      "\tType Player 2's Username:\n",
      "\tSiva\n",
      "Hi Player 1,\n",
      "Its your turn! Type one of the following:\n",
      "Rock\n",
      "Paper\n",
      "Scissors\n",
      "\tRock\n",
      "Hi Player 2,\n",
      "Its your turn! Type one of the following:\n",
      "Rock\n",
      "Paper\n",
      "Scissors\n",
      "\tScissors\n",
      "Viswa's Rock crashes Siva's Scissors!\n"
     ]
    }
   ],
   "source": [
    "play()"
   ]
  },
  {
   "cell_type": "code",
   "execution_count": 6,
   "metadata": {},
   "outputs": [
    {
     "name": "stdout",
     "output_type": "stream",
     "text": [
      "\n",
      "\tSingle player or multiple? Type 'True' or 'False'\n",
      "\t\n",
      "\n",
      "\tType Player 1's Username:\n",
      "\tViswa\n",
      "\n",
      "\tType Player 2's Username:\n",
      "\tSiva\n",
      "Hi Player 1,\n",
      "Its your turn! Type one of the following:\n",
      "Rock\n",
      "Paper\n",
      "Scissors\n",
      "\trock\n"
     ]
    },
    {
     "ename": "AssertionError",
     "evalue": "Entry invalid. Please enter one of 'Rock', 'Paper' or 'Scissors'",
     "output_type": "error",
     "traceback": [
      "\u001b[0;31m---------------------------------------------------------------------------\u001b[0m",
      "\u001b[0;31mAssertionError\u001b[0m                            Traceback (most recent call last)",
      "\u001b[0;32m<ipython-input-6-425fd712de3c>\u001b[0m in \u001b[0;36m<module>\u001b[0;34m\u001b[0m\n\u001b[0;32m----> 1\u001b[0;31m \u001b[0mplay\u001b[0m\u001b[0;34m(\u001b[0m\u001b[0;34m)\u001b[0m\u001b[0;34m\u001b[0m\u001b[0;34m\u001b[0m\u001b[0m\n\u001b[0m",
      "\u001b[0;32m<ipython-input-3-e04aafd24568>\u001b[0m in \u001b[0;36mplay\u001b[0;34m()\u001b[0m\n\u001b[1;32m     20\u001b[0m         \u001b[0mp1\u001b[0m \u001b[0;34m=\u001b[0m \u001b[0minput\u001b[0m\u001b[0;34m(\u001b[0m\u001b[0;34m\"\\n\\tType Player 1's Username:\\n\\t\"\u001b[0m\u001b[0;34m)\u001b[0m\u001b[0;34m\u001b[0m\u001b[0;34m\u001b[0m\u001b[0m\n\u001b[1;32m     21\u001b[0m         \u001b[0mp2\u001b[0m \u001b[0;34m=\u001b[0m \u001b[0minput\u001b[0m\u001b[0;34m(\u001b[0m\u001b[0;34m\"\\n\\tType Player 2's Username:\\n\\t\"\u001b[0m \u001b[0;34m)\u001b[0m\u001b[0;34m\u001b[0m\u001b[0;34m\u001b[0m\u001b[0m\n\u001b[0;32m---> 22\u001b[0;31m         \u001b[0mplay_a_trial_with_another_player\u001b[0m\u001b[0;34m(\u001b[0m\u001b[0mp1\u001b[0m\u001b[0;34m,\u001b[0m\u001b[0mp2\u001b[0m\u001b[0;34m)\u001b[0m\u001b[0;34m\u001b[0m\u001b[0;34m\u001b[0m\u001b[0m\n\u001b[0m",
      "\u001b[0;32m<ipython-input-3-e04aafd24568>\u001b[0m in \u001b[0;36mplay_a_trial_with_another_player\u001b[0;34m(p1, p2)\u001b[0m\n\u001b[1;32m      6\u001b[0m \u001b[0;32mdef\u001b[0m \u001b[0mplay_a_trial_with_another_player\u001b[0m\u001b[0;34m(\u001b[0m\u001b[0mp1\u001b[0m\u001b[0;34m,\u001b[0m\u001b[0mp2\u001b[0m\u001b[0;34m)\u001b[0m\u001b[0;34m:\u001b[0m\u001b[0;34m\u001b[0m\u001b[0;34m\u001b[0m\u001b[0m\n\u001b[1;32m      7\u001b[0m     \u001b[0mprint\u001b[0m\u001b[0;34m(\u001b[0m\u001b[0;34m\"Hi Player 1,\"\u001b[0m\u001b[0;34m)\u001b[0m\u001b[0;34m\u001b[0m\u001b[0;34m\u001b[0m\u001b[0m\n\u001b[0;32m----> 8\u001b[0;31m     \u001b[0mu1\u001b[0m \u001b[0;34m=\u001b[0m \u001b[0mtake_user_input\u001b[0m\u001b[0;34m(\u001b[0m\u001b[0;34m)\u001b[0m\u001b[0;34m\u001b[0m\u001b[0;34m\u001b[0m\u001b[0m\n\u001b[0m\u001b[1;32m      9\u001b[0m     \u001b[0mprint\u001b[0m\u001b[0;34m(\u001b[0m\u001b[0;34m\"Hi Player 2,\"\u001b[0m\u001b[0;34m)\u001b[0m\u001b[0;34m\u001b[0m\u001b[0;34m\u001b[0m\u001b[0m\n\u001b[1;32m     10\u001b[0m     \u001b[0mu2\u001b[0m \u001b[0;34m=\u001b[0m \u001b[0mtake_user_input\u001b[0m\u001b[0;34m(\u001b[0m\u001b[0;34m)\u001b[0m\u001b[0;34m\u001b[0m\u001b[0;34m\u001b[0m\u001b[0m\n",
      "\u001b[0;32m<ipython-input-1-3714a8371c57>\u001b[0m in \u001b[0;36mtake_user_input\u001b[0;34m()\u001b[0m\n\u001b[1;32m     22\u001b[0m \u001b[0;32mdef\u001b[0m \u001b[0mtake_user_input\u001b[0m\u001b[0;34m(\u001b[0m\u001b[0;34m)\u001b[0m\u001b[0;34m:\u001b[0m\u001b[0;34m\u001b[0m\u001b[0;34m\u001b[0m\u001b[0m\n\u001b[1;32m     23\u001b[0m     \u001b[0muser_input\u001b[0m \u001b[0;34m=\u001b[0m \u001b[0minput\u001b[0m\u001b[0;34m(\u001b[0m\u001b[0;34m\"Its your turn! Type one of the following:\\nRock\\nPaper\\nScissors\\n\\t\"\u001b[0m\u001b[0;34m)\u001b[0m\u001b[0;34m\u001b[0m\u001b[0;34m\u001b[0m\u001b[0m\n\u001b[0;32m---> 24\u001b[0;31m     \u001b[0;32massert\u001b[0m \u001b[0muser_input\u001b[0m \u001b[0;32min\u001b[0m \u001b[0mpossible_entities\u001b[0m\u001b[0;34m,\u001b[0m \u001b[0;34m\"Entry invalid. Please enter one of 'Rock', 'Paper' or 'Scissors'\"\u001b[0m\u001b[0;34m\u001b[0m\u001b[0;34m\u001b[0m\u001b[0m\n\u001b[0m\u001b[1;32m     25\u001b[0m     \u001b[0muser_entity\u001b[0m \u001b[0;34m=\u001b[0m \u001b[0mentity_in\u001b[0m\u001b[0;34m(\u001b[0m\u001b[0muser_input\u001b[0m\u001b[0;34m)\u001b[0m\u001b[0;34m\u001b[0m\u001b[0;34m\u001b[0m\u001b[0m\n\u001b[1;32m     26\u001b[0m     \u001b[0;32mreturn\u001b[0m \u001b[0muser_entity\u001b[0m\u001b[0;34m\u001b[0m\u001b[0;34m\u001b[0m\u001b[0m\n",
      "\u001b[0;31mAssertionError\u001b[0m: Entry invalid. Please enter one of 'Rock', 'Paper' or 'Scissors'"
     ]
    }
   ],
   "source": [
    "play()"
   ]
  },
  {
   "cell_type": "code",
   "execution_count": 8,
   "metadata": {},
   "outputs": [
    {
     "name": "stdout",
     "output_type": "stream",
     "text": [
      "\n",
      "\tSingle player or multiple? Type 'True' or 'False'\n",
      "\t\n",
      "\n",
      "\tType Player 1's Username:\n",
      "\tViswa\n",
      "\n",
      "\tType Player 2's Username:\n",
      "\tSiva\n",
      "Hi Player 1,\n",
      "Its your turn! Type one of the following:\n",
      "Rock\n",
      "Paper\n",
      "Scissors\n",
      "\tPaper\n",
      "Hi Player 2,\n",
      "Its your turn! Type one of the following:\n",
      "Rock\n",
      "Paper\n",
      "Scissors\n",
      "\tScissors\n",
      "Siva's Scissors cuts Viswa's Paper\n"
     ]
    }
   ],
   "source": [
    "play()"
   ]
  }
 ],
 "metadata": {
  "kernelspec": {
   "display_name": "Python 3",
   "language": "python",
   "name": "python3"
  },
  "language_info": {
   "codemirror_mode": {
    "name": "ipython",
    "version": 3
   },
   "file_extension": ".py",
   "mimetype": "text/x-python",
   "name": "python",
   "nbconvert_exporter": "python",
   "pygments_lexer": "ipython3",
   "version": "3.8.3"
  }
 },
 "nbformat": 4,
 "nbformat_minor": 4
}
