{
 "cells": [
  {
   "cell_type": "markdown",
   "metadata": {},
   "source": [
    "   This Notebook contains scripts to run a basic version of Rock, Paper and Scissors! I got inspiration from https://realpython.com/python-rock-paper-scissors/ where the website has their own version of the game. This and the following series of inprovement can be thought of as a small project."
   ]
  },
  {
   "cell_type": "code",
   "execution_count": 1,
   "metadata": {},
   "outputs": [],
   "source": [
    "#Setting up essential components\n",
    "import random\n",
    "possible_entities = ['Rock','Paper','Scissors']\n",
    "\n",
    "class entity_in:\n",
    "    def __init__(self,entity):\n",
    "        self.entity = entity\n",
    "        \n",
    "    def __eq__(self,other):\n",
    "        if self.entity == other.entity:\n",
    "            return True\n",
    "        else:\n",
    "            return False\n",
    "        \n",
    "    def __str__(self):\n",
    "        return self.entity\n",
    "        \n",
    "r = entity_in(\"Rock\")\n",
    "p = entity_in(\"Paper\")\n",
    "s = entity_in(\"Scissors\")\n",
    "\n",
    "def take_user_input():\n",
    "    user_input = input(\"Its your turn! Type one of the following:\\nRock\\nPaper\\nScissors\\n\\t\")\n",
    "    user_entity = entity_in(user_input)\n",
    "    return user_entity\n",
    "    \n",
    "def take_comp_input():\n",
    "    comp_input = random.choice(possible_entities)\n",
    "    comp_entity = entity_in(comp_input)\n",
    "    print(\"\\nComputer returns {}\".format(comp_input))\n",
    "    return comp_entity"
   ]
  },
  {
   "cell_type": "code",
   "execution_count": 2,
   "metadata": {},
   "outputs": [],
   "source": [
    "#setting Game rules\n",
    "def compare_n_reward(p1,p2,entity_1,entity_2):\n",
    "    if entity_1 == entity_2:\n",
    "        print(\"Both returned same!\")\n",
    "    elif entity_1 == r and entity_2 == s:\n",
    "        print(\"{}'s Rock crashes {}'s Scissors!\".format(p1,p2))\n",
    "    elif entity_2 == r and entity_1 == s:\n",
    "        print(\"{}'s Rock crashes {}'s Scissors!\".format(p2,p1))\n",
    "    elif entity_1 == p and entity_2 == r:\n",
    "        print(\"{}'s Paper covers {}'s Rock!\".format(p1,p2))\n",
    "    elif entity_2 == p and entity_1 == r:\n",
    "        print(\"{}'s Paper covers {}'s Rock!\".format(p2,p1))\n",
    "    elif entity_1 == s and entity_2 == p:\n",
    "        print(\"{}'s Scissors cuts {}'s Paper\".format(p1,p2))\n",
    "    elif entity_2 == s and entity_1 == p:\n",
    "        print(\"{}'s Scissors cuts {}'s Paper\".format(p2,p1))"
   ]
  },
  {
   "cell_type": "code",
   "execution_count": 3,
   "metadata": {},
   "outputs": [],
   "source": [
    "def play_a_trial_with_comp(p1,p2):\n",
    "    u = take_user_input()\n",
    "    c = take_comp_input()\n",
    "    compare_n_reward(p1,p2,u,c)\n",
    "\n",
    "def play():\n",
    "    single = input(\"\\n\\tSingle player or multiple? Type 'True' or 'False'\\n\\t\")\n",
    "    if single:\n",
    "        p1 = input(\"\\n\\tType your Username:\")\n",
    "        p2 = \"Computer\"    \n",
    "        play_a_trial_with_comp(p1,p2)\n",
    "    else:\n",
    "        print(\"Multiplayer is not enables in this version.\")"
   ]
  },
  {
   "cell_type": "markdown",
   "metadata": {},
   "source": [
    "# Let's start to play!"
   ]
  },
  {
   "cell_type": "code",
   "execution_count": 4,
   "metadata": {},
   "outputs": [
    {
     "name": "stdout",
     "output_type": "stream",
     "text": [
      "\n",
      "\tSingle player or multiple? Type 'True' or 'False'\n",
      "\tTrue\n",
      "\n",
      "\tType your Username:Viswa\n",
      "Its your turn! Type one of the following:\n",
      "Rock\n",
      "Paper\n",
      "Scissors\n",
      "\tRock\n",
      "\n",
      "Computer returns Scissors\n",
      "Viswa's Rock crashes Computer's Scissors!\n"
     ]
    }
   ],
   "source": [
    "play()"
   ]
  },
  {
   "cell_type": "markdown",
   "metadata": {},
   "source": [
    "# One more time..."
   ]
  },
  {
   "cell_type": "code",
   "execution_count": 5,
   "metadata": {},
   "outputs": [
    {
     "name": "stdout",
     "output_type": "stream",
     "text": [
      "\n",
      "\tSingle player or multiple? Type 'True' or 'False'\n",
      "\tTrue\n",
      "\n",
      "\tType your Username:Viswa\n",
      "Its your turn! Type one of the following:\n",
      "Rock\n",
      "Paper\n",
      "Scissors\n",
      "\tPaper\n",
      "\n",
      "Computer returns Rock\n",
      "Viswa's Paper covers Computer's Rock!\n"
     ]
    }
   ],
   "source": [
    "play()"
   ]
  },
  {
   "cell_type": "markdown",
   "metadata": {},
   "source": [
    "Randomly also i always win! :p"
   ]
  },
  {
   "cell_type": "markdown",
   "metadata": {},
   "source": [
    "# Checking for errors"
   ]
  },
  {
   "cell_type": "code",
   "execution_count": 6,
   "metadata": {},
   "outputs": [
    {
     "name": "stdout",
     "output_type": "stream",
     "text": [
      "\n",
      "\tSingle player or multiple? Type 'True' or 'False'\n",
      "\tFalse\n",
      "\n",
      "\tType your Username:Viswa\n",
      "Its your turn! Type one of the following:\n",
      "Rock\n",
      "Paper\n",
      "Scissors\n",
      "\tRock\n",
      "\n",
      "Computer returns Scissors\n",
      "Viswa's Rock crashes Computer's Scissors!\n"
     ]
    }
   ],
   "source": [
    "play()"
   ]
  },
  {
   "cell_type": "markdown",
   "metadata": {},
   "source": [
    "Wait! Shouldn't it be Multiplayer that i chose?"
   ]
  },
  {
   "cell_type": "code",
   "execution_count": 7,
   "metadata": {},
   "outputs": [
    {
     "name": "stdout",
     "output_type": "stream",
     "text": [
      "\n",
      "\tSingle player or multiple? Type 'True' or 'False'\n",
      "\tTrue\n",
      "\n",
      "\tType your Username:Viswa\n",
      "Its your turn! Type one of the following:\n",
      "Rock\n",
      "Paper\n",
      "Scissors\n",
      "\trock\n",
      "\n",
      "Computer returns Paper\n"
     ]
    }
   ],
   "source": [
    "play()"
   ]
  },
  {
   "cell_type": "markdown",
   "metadata": {},
   "source": [
    "Oops.. 'rock' is not 'Rock'! I think we have to be more user friendly in next version."
   ]
  }
 ],
 "metadata": {
  "kernelspec": {
   "display_name": "Python 3",
   "language": "python",
   "name": "python3"
  },
  "language_info": {
   "codemirror_mode": {
    "name": "ipython",
    "version": 3
   },
   "file_extension": ".py",
   "mimetype": "text/x-python",
   "name": "python",
   "nbconvert_exporter": "python",
   "pygments_lexer": "ipython3",
   "version": "3.8.3"
  }
 },
 "nbformat": 4,
 "nbformat_minor": 4
}
